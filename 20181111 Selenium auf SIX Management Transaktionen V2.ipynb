{
 "cells": [
  {
   "cell_type": "markdown",
   "metadata": {},
   "source": [
    "# Auslesen der Management-Transaktionen bei SIX\n",
    "\n",
    " Diese Anwendung basiert logisch auf \"Selenium auf SIX Management Transaktionen\". Ziel ist jedoch, die einzelne Selenium-Abfrage in eine funktion zu Packen, die dann wiederum in Schleifen aufgerufen werden kann.\n",
    " \n",
    " Die Idee ist, die Abfrage in Selenium und die Auswertung in separate Funktionen auszulagern und diese am ende mit einem kurzen Code automatisiert zu starten. \n",
    " \n",
    " Dabei wird erst die Funktion selenium() aufgerufen. Das Ergebnis geht dann an die Funktion suppe(), welche ihrerseits wiederum in einer Schleife die Funktion meldungen() einsetzt.\n",
    " \n",
    " Aktuelles Problem: Obwohl Selenium die richtigen Daten setzt und die Abfragen auch die richtigen Daten liefert, erscheinen am Ende Werte aus einem anderen Monat im Endergebnis. Da dies bei getrennten Einzelausführungen nicht der Fall ist, muss der Fehler am Code liegen und nicht an der Website."
   ]
  },
  {
   "cell_type": "markdown",
   "metadata": {},
   "source": [
    "## Allgemeine Vorbereitung"
   ]
  },
  {
   "cell_type": "code",
   "execution_count": 1,
   "metadata": {},
   "outputs": [
    {
     "name": "stderr",
     "output_type": "stream",
     "text": [
      "C:\\ProgramData\\Anaconda3\\lib\\site-packages\\requests\\__init__.py:80: RequestsDependencyWarning: urllib3 (1.22) or chardet (2.3.0) doesn't match a supported version!\n",
      "  RequestsDependencyWarning)\n"
     ]
    }
   ],
   "source": [
    "#Importe\n",
    "from bs4 import BeautifulSoup\n",
    "import requests\n",
    "import time\n",
    "import datetime\n",
    "import pandas as pd\n",
    "from selenium import webdriver\n",
    "from selenium.webdriver.common.keys import Keys\n",
    "from selenium.webdriver.support.ui import Select\n",
    "import os\n",
    "import pandas as PD\n",
    "%matplotlib inline"
   ]
  },
  {
   "cell_type": "code",
   "execution_count": 3,
   "metadata": {},
   "outputs": [],
   "source": []
  },
  {
   "cell_type": "markdown",
   "metadata": {},
   "source": [
    " # Selenium-Abfrage als Funktion\n",
    " \n",
    " Die Funktion soll nach Eingabe eines Start- und Enddatums einen HTML-Code des Seite ausgeben."
   ]
  },
  {
   "cell_type": "code",
   "execution_count": 7,
   "metadata": {},
   "outputs": [],
   "source": [
    "#Ab der SIX-Seite für ein bestimmtes Datum alle meldungen auslesen und als HTML speichern.\n",
    "#Ausgabe ist website als html. \n",
    "\n",
    "def selenium(startdatum, enddatum):\n",
    "    #definition webdriver (ohne Pfadangabe, da Pfad gespeichert)\n",
    "    driver = webdriver.Chrome()\n",
    "    \n",
    "    #definition Website\n",
    "    driver.get(\"https://www.six-exchange-regulation.com/de/home/publications/management-transactions.html\")\n",
    "    #driver.get(\"https://www.six-exchange-regulation.com/de/home/publications/management-transactions.html#notificationId=T1I2G00075\")\n",
    "    \n",
    "    time.sleep(1)           \n",
    "               \n",
    "    #datum setzen\n",
    "    datum_von = driver.find_element_by_id('FromTransactionDate')\n",
    "    datum_von.click()\n",
    "    datum_von.clear()\n",
    "    datum_von.send_keys(startdatum)          \n",
    "\n",
    "    datum_bis = driver.find_element_by_name('ToTransactionDate')\n",
    "    datum_bis.click()\n",
    "    datum_bis.clear()\n",
    "    datum_bis.send_keys(enddatum)\n",
    "               \n",
    "    time.sleep(1)           \n",
    "    \n",
    "    #Alle Firmen wählen\n",
    "    #select = Select(driver.find_element_by_name(\"NotificationSubmitterId\"))\n",
    "    #select.select_by_value(\"\") #Für alle Aktien\n",
    "    \n",
    "    #Einfach nur Abschicken\n",
    "    datum_von = driver.find_element_by_id('FromTransactionDate')\n",
    "    datum_von.send_keys(Keys.ENTER)\n",
    "    \n",
    "    #time.sleep(5)   \n",
    "    \n",
    "    #HTML-Inhalt erfassen und übergeben\n",
    "    html = driver.page_source\n",
    "\n",
    "    return html "
   ]
  },
  {
   "cell_type": "code",
   "execution_count": 8,
   "metadata": {},
   "outputs": [],
   "source": [
    "#test\n",
    "liste=[]\n",
    "\n",
    "start = \"01012018\"\n",
    "ende = \"20012018\"\n",
    "\n",
    "selenium(start, ende)"
   ]
  },
  {
   "cell_type": "markdown",
   "metadata": {},
   "source": [
    "# Suppe als Funktion\n",
    "\n",
    "Diese Funktion soll den über Selenium() generierten Code auswerten und als Liste ausgeben. "
   ]
  },
  {
   "cell_type": "markdown",
   "metadata": {},
   "source": [
    "## Aus der Website die einzelnen Zeilen auslesen"
   ]
  },
  {
   "cell_type": "code",
   "execution_count": 4,
   "metadata": {},
   "outputs": [],
   "source": [
    "def suppe(site):\n",
    "    liste = []\n",
    "    website = str(site)\n",
    "    soup = BeautifulSoup(website, 'lxml')\n",
    "    ergebniszeilen_gerade = soup.find_all(\"tr\", class_=\"itf-mark-row-template even\")\n",
    "    ergebniszeilen_ungerade = soup.find_all(\"tr\", class_=\"itf-mark-row-template odd\")\n",
    "    allezeilen = ergebniszeilen_gerade + ergebniszeilen_ungerade\n",
    "    \n",
    "   \n",
    "    for meldung in ergebniszeilen_ungerade:\n",
    "        meldung = str(meldung)\n",
    "        meldungen(meldung)\n",
    "\n",
    "    for meldung in ergebniszeilen_gerade:\n",
    "        meldung = str(meldung)\n",
    "        meldungen(meldung)\n",
    "\n",
    "    return liste"
   ]
  },
  {
   "cell_type": "code",
   "execution_count": 9,
   "metadata": {},
   "outputs": [],
   "source": [
    "#test\n",
    "#liste = []\n",
    "suppe(site)\n",
    "liste"
   ]
  },
  {
   "cell_type": "code",
   "execution_count": 151,
   "metadata": {},
   "outputs": [],
   "source": [
    "#die liste löschen\n",
    "liste = []"
   ]
  },
  {
   "cell_type": "markdown",
   "metadata": {},
   "source": [
    "## Aus den extrahierten Meldungen die Daten auslesen\n",
    "\n",
    "Diese Funktion ist eine Unterfunktion von suppe(), die von suppe() in einer Schleife aufgerufen wird."
   ]
  },
  {
   "cell_type": "code",
   "execution_count": 5,
   "metadata": {},
   "outputs": [],
   "source": [
    "#Aus einer Datenzeile die Meldungen extrahieren\n",
    "\n",
    "def meldungen(zeile):\n",
    "\n",
    "    soup_zeile=BeautifulSoup(zeile, 'lxml')\n",
    "\n",
    "    datum = soup_zeile.select('[data-itf-inject]')[0].text\n",
    "    unternehmen = soup_zeile.select('[data-itf-inject]')[1].text\n",
    "    art = soup_zeile.select('[data-itf-inject]')[2].text\n",
    "    #anzahl = float(soup_zeile.select('[data-itf-inject]')[3].text.replace(\"'\",\"\"))\n",
    "    anzahl = soup_zeile.select('[data-itf-inject]')[3].text.replace(\"'\",\"\")\n",
    "    wertpapier = soup_zeile.select('[data-itf-inject]')[4].text\n",
    "    #wert = float(soup_zeile.select('[data-itf-inject]')[5].text.replace(\"'\",\"\"))\n",
    "    wert = soup_zeile.select('[data-itf-inject]')[5].text.replace(\"'\",\"\")\n",
    "\n",
    "    #die umwandlung in float scheint probleme zu machen, daher wurde sie mal noch ausgelassen\n",
    "\n",
    "    #Diese einzelne Zeile in ein Minidict schreiben\n",
    "    #Minidict erstellen\n",
    "\n",
    "    dict_meldung = {\"datum\" : datum, \"unternehmen\":unternehmen, \"art\":art, \"anzahl\":anzahl, \"wertpapier\":wertpapier, \"wert\":wert}\n",
    "    liste.append(dict_meldung)"
   ]
  },
  {
   "cell_type": "markdown",
   "metadata": {},
   "source": [
    "# Ergebnis anzeigen\n",
    "\n",
    "Das Ergebnis in einem Panda darstellen und exportieren"
   ]
  },
  {
   "cell_type": "code",
   "execution_count": 10,
   "metadata": {},
   "outputs": [],
   "source": [
    "#Panda erstellen\n",
    "\n",
    "datensatz = pd.DataFrame(liste)\n",
    "datensatz\n",
    "#datensatz.plot()"
   ]
  },
  {
   "cell_type": "markdown",
   "metadata": {},
   "source": [
    "# Alles hinter einander ausführen"
   ]
  },
  {
   "cell_type": "code",
   "execution_count": 11,
   "metadata": {},
   "outputs": [],
   "source": [
    "start = \"01012018\"\n",
    "ende = \"10012018\"\n",
    "\n",
    "liste = []\n",
    "site = selenium(start, ende)\n",
    "suppe(site) \n",
    "datensatz = pd.DataFrame(liste)\n",
    "datensatz"
   ]
  },
  {
   "cell_type": "code",
   "execution_count": null,
   "metadata": {},
   "outputs": [],
   "source": []
  },
  {
   "cell_type": "code",
   "execution_count": null,
   "metadata": {},
   "outputs": [],
   "source": []
  }
 ],
 "metadata": {
  "kernelspec": {
   "display_name": "Python 3",
   "language": "python",
   "name": "python3"
  },
  "language_info": {
   "codemirror_mode": {
    "name": "ipython",
    "version": 3
   },
   "file_extension": ".py",
   "mimetype": "text/x-python",
   "name": "python",
   "nbconvert_exporter": "python",
   "pygments_lexer": "ipython3",
   "version": "3.6.5"
  }
 },
 "nbformat": 4,
 "nbformat_minor": 2
}
